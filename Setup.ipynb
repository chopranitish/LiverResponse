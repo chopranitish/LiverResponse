{
 "cells": [
  {
   "cell_type": "markdown",
   "id": "77bf2799",
   "metadata": {},
   "source": [
    "# This will make sure all submodules were pulled, are checked out at master, and pull"
   ]
  },
  {
   "cell_type": "code",
   "execution_count": null,
   "id": "44b2bf34",
   "metadata": {},
   "outputs": [],
   "source": [
    "!git submodule foreach --recursive git submodule update --init"
   ]
  },
  {
   "cell_type": "code",
   "execution_count": null,
   "id": "760932e7",
   "metadata": {},
   "outputs": [],
   "source": [
    "!git submodule foreach --recursive git checkout master"
   ]
  },
  {
   "cell_type": "code",
   "execution_count": null,
   "id": "e0185554",
   "metadata": {},
   "outputs": [],
   "source": [
    "!git submodule foreach --recursive git pull"
   ]
  },
  {
   "cell_type": "markdown",
   "id": "3d7778ae",
   "metadata": {},
   "source": [
    "# Install necessary packages"
   ]
  },
  {
   "cell_type": "code",
   "execution_count": null,
   "id": "e1c3b6f3",
   "metadata": {},
   "outputs": [],
   "source": [
    "!pip install DicomRTTool"
   ]
  },
  {
   "cell_type": "code",
   "execution_count": null,
   "id": "ec609b9e",
   "metadata": {},
   "outputs": [],
   "source": [
    "!pip install tensorflow==2.4.1\n",
    "!pip install jedi==0.17.2"
   ]
  },
  {
   "cell_type": "code",
   "execution_count": null,
   "id": "a9bf5f09",
   "metadata": {},
   "outputs": [],
   "source": []
  }
 ],
 "metadata": {
  "kernelspec": {
   "display_name": "Python 3",
   "language": "python",
   "name": "python3"
  },
  "language_info": {
   "codemirror_mode": {
    "name": "ipython",
    "version": 3
   },
   "file_extension": ".py",
   "mimetype": "text/x-python",
   "name": "python",
   "nbconvert_exporter": "python",
   "pygments_lexer": "ipython3",
   "version": "3.6.5"
  }
 },
 "nbformat": 4,
 "nbformat_minor": 5
}
